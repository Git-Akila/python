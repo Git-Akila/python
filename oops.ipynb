#creating a phone class
class Phone:
    
    def make_call(self):
        print("Making phone call")
    
    def play_game(self):
        print("Playing Game")
p1=Phone()
p1.make_call()
Making phone call
p1.play_game()
Playing Game
#Add parameters
class Phone:
    
    def set_color(self,color):
        self.color=color
        
    def set_cost(self,cost):
        self.cost=cost
        
    def show_color(self):
        return self.color
    
    def show_cost(self):
        return self.cost
    
    def make_call(self):
        print("Making phone call")
    
    def play_game(self):
        print("Playing Game")
p2=Phone()
p2.set_color("blue")
p2.set_cost(100)
p2.show_color()
'blue'
p2.show_cost()
100
#Creating Employee class
class Employee:
    def __init__(self,name,age, salary,gender):
        
        self.name = name
        self.age = age
        self.salary =  salary
        self.gender = gender
        
    def employee_details(self):
        print("Name of employee is ",self.name)
        print("Age of employee is ",self.age)
        print("Salary of employee is ",self.salary)
        print("Gender of employee is ",self.gender)
e1 = Employee('Sam',32,85000,'Male')
e1.employee_details()
Name of employee is  Sam
Age of employee is  32
Salary of employee is  85000
Gender of employee is  Male
 
#inheritance
class Vehicle:
    
    def __init__(self,mileage, cost):
        self.mileage = mileage
        self.cost = cost
        
    def show_details(self):
        print("I am a Vehicle")
        print("Mileage of Vehicle is ", self.mileage)
        print("Cost of Vehicle is ", self.cost)
v1 = Vehicle(500,500)
v1.show_details()
I am a Vehicle
Mileage of Vehicle is  500
Cost of Vehicle is  500
class Car(Vehicle):
    def show_car(self):
        print("I am a car")
c1 = Car(200,1200)
c1.show_details()
I am a Vehicle
Mileage of Vehicle is  200
Cost of Vehicle is  1200
c1.show_car()
I am a car
class Car(Vehicle):
    
    def __init__(self,mileage,cost,tyres,hp):
        super().__init__(mileage,cost)
        self.tyres = tyres
        self.hp =hp
        
    def show_car_details(self):
        print("I am a car")
        print("Number of tyres are ",self.tyres)
        print("Value of horse power is ",self.hp)
c1 = Car(20,12000,4,300)
c1.show_details()
I am a Vehicle
Mileage of Vehicle is  20
Cost of Vehicle is  12000
c1.show_car_details()
I am a car
Number of tyres are  4
Value of horse power is  300
#Multiple Inheritance
class Parent1(): 
    def assign_string_one(self,str1): 
        self.str1 = str1
        
    def show_string_one(self): 
        return self.str1
class Parent2(): 
    def assign_string_two(self,str2): 
        self.str2 = str2
        
    def show_string_two(self): 
        return self.str2
class Derived(Parent1, Parent2): 
    def assign_string_three(self,str3): 
        self.str3=str3
          
    def show_string_three(self): 
        return self.str3
d1 = Derived()
d1.assign_string_one("one")
d1.assign_string_two("two")
d1.assign_string_three("three")
d1.show_string_one()
'one'
d1.show_string_two()
'two'
d1.show_string_three()
'three'
#multi-level inheritance
class Parent(): 
    def assign_name(self,name): 
        self.name = name
        
    def show_name(self): 
        return self.name
class Child(Parent): 
    def assign_age(self,age): 
        self.age = age
        
    def show_age(self): 
        return self.age
class GrandChild(Child): 
    def assign_gender(self,gender): 
        self.gender = gender
        
    def show_gender(self): 
        return self.name
g1 = GrandChild()
g1.assign_name("Sam")
g1.assign_age(25)
g1.assign_gender("Male")
g1.show_name()
'Sam'
g1.show_age()
25
g1.show_gender()
'Sam'
