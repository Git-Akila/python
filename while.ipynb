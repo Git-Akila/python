#Printing 1-10  using while loop
i=1
while i<=10:
    print(i)
    i=i+1
1
2
3
4
5
6
7
8
9
10
#Printing 2-table with while loop
i=1
n=2
while i<=10:
    print(n," * ", i, " = ",n*i)
    i=i+1
2  *  1  =  2
2  *  2  =  4
2  *  3  =  6
2  *  4  =  8
2  *  5  =  10
2  *  6  =  12
2  *  7  =  14
2  *  8  =  16
2  *  9  =  18
2  *  10  =  20
#While with list
l1=[1,2,3,4,5]
i=0
while i<len(l1):
    l1[i]=l1[i]+100
    i=i+1
l1
[101, 102, 103, 104, 105]
